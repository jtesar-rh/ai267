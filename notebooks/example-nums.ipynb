{
 "cells": [
  {
   "cell_type": "code",
   "execution_count": null,
   "id": "dd57727c-bf78-4053-ab47-2a781dc3f645",
   "metadata": {
    "tags": []
   },
   "outputs": [],
   "source": [
    "import tensorflow as tf\n",
    "import numpy as np\n",
    "import matplotlib.pyplot as plt\n",
    "import os\n",
    "import io"
   ]
  },
  {
   "cell_type": "code",
   "execution_count": null,
   "id": "5723eda7-407b-4db5-84e9-886f9d7eabb8",
   "metadata": {
    "tags": []
   },
   "outputs": [],
   "source": [
    "mnist = tf.keras.datasets.mnist\n",
    "(train_images, train_labels), (test_images, test_labels) = mnist.load_data()"
   ]
  },
  {
   "cell_type": "code",
   "execution_count": null,
   "id": "d1392c4f-1d3e-4ac8-87ba-b77226d5f533",
   "metadata": {
    "tags": []
   },
   "outputs": [],
   "source": [
    "range_start = 20\n",
    "plt.figure(figsize=(10,10))\n",
    "\n",
    "for i in range(range_start,range_start + 10):\n",
    "    plt.subplot(5,5,i-range_start+1)\n",
    "    plt.xticks([])\n",
    "    plt.xlabel(str(train_labels[i]))\n",
    "    plt.imshow(train_images[i])\n",
    "plt.show()"
   ]
  },
  {
   "cell_type": "code",
   "execution_count": null,
   "id": "de2ddef0-194c-49cd-a409-e33e01f8843d",
   "metadata": {
    "tags": []
   },
   "outputs": [],
   "source": [
    "train_images = train_images / 255.0\n",
    "test_images = test_images / 255.0"
   ]
  },
  {
   "cell_type": "code",
   "execution_count": null,
   "id": "59fe2283-3b16-4673-b2cb-87e353960d4c",
   "metadata": {
    "tags": []
   },
   "outputs": [],
   "source": [
    "model=None\n",
    "model = tf.keras.models.Sequential([\n",
    "tf.keras.layers.Flatten(input_shape=(28, 28),name='bitmap'),\n",
    "tf.keras.layers.Dense(128, activation='relu'),\n",
    "tf.keras.layers.Dropout(0.2),\n",
    "tf.keras.layers.Dense(128, activation='relu'),\n",
    "tf.keras.layers.Dense(10,activation='softmax')])  "
   ]
  },
  {
   "cell_type": "code",
   "execution_count": null,
   "id": "ea147c1a-80be-4c42-ab51-908447296bd9",
   "metadata": {
    "tags": []
   },
   "outputs": [],
   "source": [
    "model.compile(optimizer=tf.keras.optimizers.RMSprop(learning_rate=0.0002),loss=tf.keras.losses.SparseCategoricalCrossentropy(from_logits=True),metrics=['accuracy'])\n",
    "model.summary()"
   ]
  },
  {
   "cell_type": "code",
   "execution_count": null,
   "id": "5a95a998-3216-44d1-87ea-8753f45a414e",
   "metadata": {
    "tags": []
   },
   "outputs": [],
   "source": [
    "history = model.fit(train_images, train_labels, epochs=10,verbose=1,validation_split=0.1)\n"
   ]
  },
  {
   "cell_type": "code",
   "execution_count": null,
   "id": "346980ca-ccea-46f0-9966-2f6a54ab9cdf",
   "metadata": {
    "tags": []
   },
   "outputs": [],
   "source": [
    "loss, acc = model.evaluate(train_images,  train_labels, verbose=2)\n",
    "print(\"\\nTraining accuracy: \", acc)\n",
    "loss, acc = model.evaluate(test_images,  test_labels, verbose=2)\n",
    "print(\"\\nTesting accuracy: \", acc)"
   ]
  },
  {
   "cell_type": "code",
   "execution_count": null,
   "id": "d4e8956b-3033-4278-a9a0-90764ebca759",
   "metadata": {
    "tags": []
   },
   "outputs": [],
   "source": [
    "def plot_loss(history,data_names):\n",
    "    n = 1\n",
    "    plt.figure(n,figsize=(10,5))\n",
    "\n",
    "    for i in data_names:\n",
    "        plt.plot(history.history[i],label=i)\n",
    "        plt.xlim([0, len(history.history[i])])\n",
    "        plt.ylim([np.min(history.history[i]), np.max(history.history[i])])\n",
    "        plt.xlabel('Epoch')\n",
    "        #plt.ylabel(i)\n",
    "        n += 1\n",
    "\n",
    "    plt.legend()\n",
    "    plt.grid(True)\n",
    "    plt.show()\n",
    "\n",
    "plot_loss(history,['loss','val_loss'])\n",
    "plot_loss(history,['accuracy','val_accuracy'])\n",
    "\n"
   ]
  },
  {
   "cell_type": "code",
   "execution_count": null,
   "id": "f4468b17-295b-420e-b49b-71fbaf184e1c",
   "metadata": {
    "tags": []
   },
   "outputs": [],
   "source": [
    "#pred_model = tf.keras.Sequential([model, tf.keras.layers.Softmax()])\n",
    "predictions = model.predict(test_images)"
   ]
  },
  {
   "cell_type": "code",
   "execution_count": null,
   "id": "6e3a3ebc-2e52-4be8-8783-e7b7c4c84894",
   "metadata": {
    "tags": []
   },
   "outputs": [],
   "source": [
    "print(predictions[20])"
   ]
  },
  {
   "cell_type": "code",
   "execution_count": null,
   "id": "ce2f7482-ea4f-44ec-a37d-628f1717c588",
   "metadata": {
    "tags": []
   },
   "outputs": [],
   "source": [
    "def plot_image(i, predictions_array, true_label, img):\n",
    "    true_label, img = true_label[i], img[i]\n",
    "    plt.grid(False)\n",
    "    plt.xticks([])\n",
    "    plt.yticks([])\n",
    "\n",
    "    plt.imshow(img)\n",
    "\n",
    "    predicted_label = np.argmax(predictions_array)\n",
    "    if predicted_label == true_label:\n",
    "        color = 'blue'\n",
    "    else:\n",
    "        color = 'red'\n",
    "\n",
    "    plt.xlabel(\"{} {:2.0f}% ({})\".format(str(predicted_label),\n",
    "                                         100*np.max(predictions_array),\n",
    "                                         str(true_label)),\n",
    "               color=color)\n",
    "\n",
    "\n",
    "def plot_value_array(i, predictions_array, true_label):\n",
    "    true_label = true_label[i]\n",
    "    plt.grid(False)\n",
    "    plt.xticks(range(10))\n",
    "    plt.yticks([])\n",
    "    thisplot = plt.bar(range(10), predictions_array, color=\"#777777\")\n",
    "    plt.ylim([0, 1])\n",
    "    predicted_label = np.argmax(predictions_array)\n",
    "\n",
    "    thisplot[predicted_label].set_color('red')\n",
    "    thisplot[true_label].set_color('blue')"
   ]
  },
  {
   "cell_type": "code",
   "execution_count": null,
   "id": "6a069b30-cb85-48e3-8f3e-84fbc8382a63",
   "metadata": {
    "tags": []
   },
   "outputs": [],
   "source": [
    "range_start = 200\n",
    "num_rows = 5\n",
    "num_cols = 3\n",
    "num_images = num_rows*num_cols\n",
    "plt.figure(figsize=(2*2*num_cols, 2*num_rows))\n",
    "for i in range(range_start,range_start+num_images):\n",
    "    j = i - range_start\n",
    "    plt.subplot(num_rows, 2*num_cols, 2*j+1)\n",
    "    plot_image(i, predictions[i], test_labels, test_images)\n",
    "    plt.subplot(num_rows, 2*num_cols, 2*j+2)\n",
    "    plot_value_array(i, predictions[i], test_labels)\n",
    "plt.tight_layout()\n",
    "plt.show()"
   ]
  },
  {
   "cell_type": "code",
   "execution_count": null,
   "id": "b6e1adc9-6724-463c-914b-772f1237bfaf",
   "metadata": {
    "tags": []
   },
   "outputs": [],
   "source": [
    "import tf2onnx\n",
    "import onnx\n"
   ]
  },
  {
   "cell_type": "code",
   "execution_count": null,
   "id": "a645c402-488f-4e0c-bdb9-028ff1d1c310",
   "metadata": {
    "tags": []
   },
   "outputs": [],
   "source": [
    "input_signature = [tf.TensorSpec(model.inputs[0].shape, tf.float64, name='bitmap')]\n",
    "model.output_names=['probabilities']\n",
    "\n",
    "onnx_model, _ = tf2onnx.convert.from_keras(model, input_signature, opset=13)\n",
    "onnx.save(onnx_model, \"model.onnx\")"
   ]
  },
  {
   "cell_type": "code",
   "execution_count": null,
   "id": "399dbd51-74ce-4ba6-bf2f-0fe25ba49e60",
   "metadata": {},
   "outputs": [],
   "source": []
  }
 ],
 "metadata": {
  "kernelspec": {
   "display_name": "Python 3.9",
   "language": "python",
   "name": "python3"
  },
  "language_info": {
   "codemirror_mode": {
    "name": "ipython",
    "version": 3
   },
   "file_extension": ".py",
   "mimetype": "text/x-python",
   "name": "python",
   "nbconvert_exporter": "python",
   "pygments_lexer": "ipython3",
   "version": "3.9.16"
  }
 },
 "nbformat": 4,
 "nbformat_minor": 5
}
