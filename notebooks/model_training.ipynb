{
 "cells": [
  {
   "cell_type": "code",
   "execution_count": null,
   "id": "81cd03ef-d208-4d7d-839d-8d4b7ff20a21",
   "metadata": {
    "tags": []
   },
   "outputs": [],
   "source": [
    "import tensorflow as tf\n",
    "import numpy as np\n",
    "import matplotlib.pyplot as plt\n",
    "import os\n",
    "import io"
   ]
  },
  {
   "cell_type": "code",
   "execution_count": null,
   "id": "a8eaf557-d88a-481c-9cb7-4e7a1c4f7f49",
   "metadata": {
    "tags": []
   },
   "outputs": [],
   "source": [
    "mnist = tf.keras.datasets.mnist\n",
    "(train_images, train_labels), (test_images, test_labels) = mnist.load_data()"
   ]
  },
  {
   "cell_type": "code",
   "execution_count": null,
   "id": "5e206345-b25b-43bd-bceb-e43a972c1375",
   "metadata": {
    "tags": []
   },
   "outputs": [],
   "source": [
    "def plot_image(i, predictions_array, true_label, img):\n",
    "    true_label, img = true_label[i], img[i]\n",
    "    plt.grid(False)\n",
    "    plt.xticks([])\n",
    "    plt.yticks([])\n",
    "\n",
    "    plt.imshow(img)\n",
    "\n",
    "    predicted_label = np.argmax(predictions_array)\n",
    "    if predicted_label == true_label:\n",
    "        color = 'blue'\n",
    "    else:\n",
    "        color = 'red'\n",
    "\n",
    "    plt.xlabel(\"{} {:2.0f}% ({})\".format(str(predicted_label),\n",
    "                                         100*np.max(predictions_array),\n",
    "                                         str(true_label)),\n",
    "               color=color)\n",
    "\n",
    "\n",
    "def plot_value_array(i, predictions_array, true_label):\n",
    "    true_label = true_label[i]\n",
    "    plt.grid(False)\n",
    "    plt.xticks(range(10))\n",
    "    plt.yticks([])\n",
    "    thisplot = plt.bar(range(10), predictions_array, color=\"#777777\")\n",
    "    plt.ylim([0, 1])\n",
    "    predicted_label = np.argmax(predictions_array)\n",
    "\n",
    "    thisplot[predicted_label].set_color('red')\n",
    "    thisplot[true_label].set_color('blue')"
   ]
  },
  {
   "cell_type": "code",
   "execution_count": null,
   "id": "eeb71acb-70bd-4521-a047-d42d238cecbf",
   "metadata": {
    "tags": []
   },
   "outputs": [],
   "source": [
    "images = 2\n",
    "lr = 0.001\n",
    "epochs = 20\n",
    "\n",
    "\n",
    "mnist = tf.keras.datasets.mnist\n",
    "(train_images, train_labels), (test_images, test_labels) = mnist.load_data()\n",
    "train_images = train_images / 255.0\n",
    "test_images = test_images / 255.0"
   ]
  },
  {
   "cell_type": "code",
   "execution_count": null,
   "id": "b3edb674-9e8b-4dfb-b335-446100bc2976",
   "metadata": {
    "tags": []
   },
   "outputs": [],
   "source": [
    "train_images = train_images[0:images]\n",
    "train_labels = train_labels[0:images]\n",
    "\n",
    "model=None\n",
    "model = tf.keras.models.Sequential([\n",
    "tf.keras.layers.Flatten(input_shape=(28, 28),name='bitmap'),\n",
    "tf.keras.layers.Dense(128, activation='relu'),\n",
    "tf.keras.layers.Dropout(0.2),\n",
    "tf.keras.layers.Dense(128, activation='relu'),\n",
    "tf.keras.layers.Dense(10,activation='softmax')]) \n",
    "model.compile(optimizer=tf.keras.optimizers.Adam(learning_rate=lr),loss=tf.keras.losses.SparseCategoricalCrossentropy(from_logits=True),metrics=['accuracy'])\n",
    "\n",
    "for x in range(epochs):\n",
    "    model.fit(train_images, train_labels, epochs=1,verbose=0)\n",
    "    predictions = model.predict(train_images)\n",
    "    range_start = 0\n",
    "    num_rows = 1\n",
    "    num_cols = images\n",
    "    num_images = num_rows*num_cols\n",
    "    plt.figure(figsize=(2*2*num_cols, 2*num_rows))\n",
    "    for i in range(range_start,range_start+num_images):\n",
    "        j = i - range_start\n",
    "        plt.subplot(num_rows, 2*num_cols, 2*j+1)\n",
    "        plot_image(i, predictions[i], train_labels, train_images)\n",
    "        plt.subplot(num_rows, 2*num_cols, 2*j+2)\n",
    "        plot_value_array(i, predictions[i], train_labels)\n",
    "    plt.tight_layout()\n",
    "    plt.show()\n",
    "    #x = input()\n"
   ]
  },
  {
   "cell_type": "code",
   "execution_count": null,
   "id": "68d3bcbb-eb95-4a19-a39e-8ba723bdd0c8",
   "metadata": {
    "tags": []
   },
   "outputs": [],
   "source": [
    "train_images.shape"
   ]
  },
  {
   "cell_type": "code",
   "execution_count": null,
   "id": "edbb9f7f-787a-43e0-8a66-879988b89610",
   "metadata": {},
   "outputs": [],
   "source": []
  }
 ],
 "metadata": {
  "kernelspec": {
   "display_name": "Python 3.9",
   "language": "python",
   "name": "python3"
  },
  "language_info": {
   "codemirror_mode": {
    "name": "ipython",
    "version": 3
   },
   "file_extension": ".py",
   "mimetype": "text/x-python",
   "name": "python",
   "nbconvert_exporter": "python",
   "pygments_lexer": "ipython3",
   "version": "3.9.16"
  }
 },
 "nbformat": 4,
 "nbformat_minor": 5
}
