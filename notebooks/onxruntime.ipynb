{
 "cells": [
  {
   "cell_type": "code",
   "execution_count": null,
   "id": "11e6866a-2fbf-4cb0-bd46-bbc10b66cb4e",
   "metadata": {
    "tags": []
   },
   "outputs": [],
   "source": [
    "%pip install onnxruntime"
   ]
  },
  {
   "cell_type": "code",
   "execution_count": null,
   "id": "1f0e080f-4f7f-480d-9c57-23eef15f69eb",
   "metadata": {
    "tags": []
   },
   "outputs": [],
   "source": [
    "import tensorflow as tf\n",
    "import onnxruntime\n",
    "import numpy as np\n"
   ]
  },
  {
   "cell_type": "code",
   "execution_count": null,
   "id": "2c91014e-53ad-4810-9d92-9571861db178",
   "metadata": {
    "tags": []
   },
   "outputs": [],
   "source": [
    "mnist = tf.keras.datasets.mnist\n",
    "\n",
    "(x_train, y_train), (x_test, y_test) = mnist.load_data()\n",
    "x_train, x_test = x_train / 255.0, x_test / 255.0"
   ]
  },
  {
   "cell_type": "code",
   "execution_count": null,
   "id": "d5a40be3-90b2-4287-b307-0f092f4c7c6c",
   "metadata": {
    "tags": []
   },
   "outputs": [],
   "source": [
    "session = onnxruntime.InferenceSession(\"model.onnx\")"
   ]
  },
  {
   "cell_type": "code",
   "execution_count": null,
   "id": "3c7cadd4-bf5f-4c3d-ac57-6621351ab311",
   "metadata": {
    "tags": []
   },
   "outputs": [],
   "source": [
    "inputs = {\"bitmap\":x_test[4:5]}\n",
    "results = session.run([],inputs)\n",
    "print(results)\n",
    "print(np.argmax(results))"
   ]
  },
  {
   "cell_type": "code",
   "execution_count": null,
   "id": "587ab9fa-7034-4d3f-bdbc-4dc271c21c77",
   "metadata": {},
   "outputs": [],
   "source": []
  }
 ],
 "metadata": {
  "kernelspec": {
   "display_name": "Python 3.9",
   "language": "python",
   "name": "python3"
  },
  "language_info": {
   "codemirror_mode": {
    "name": "ipython",
    "version": 3
   },
   "file_extension": ".py",
   "mimetype": "text/x-python",
   "name": "python",
   "nbconvert_exporter": "python",
   "pygments_lexer": "ipython3",
   "version": "3.9.18"
  }
 },
 "nbformat": 4,
 "nbformat_minor": 5
}
