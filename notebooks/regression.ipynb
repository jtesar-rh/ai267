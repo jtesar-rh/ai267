{
 "cells": [
  {
   "cell_type": "code",
   "execution_count": null,
   "id": "86215520-4e63-4b8a-a55f-f0a165358d1f",
   "metadata": {
    "tags": []
   },
   "outputs": [],
   "source": [
    "import pandas as pd\n",
    "import numpy as np\n",
    "import matplotlib.pyplot as plot\n",
    "import joblib\n",
    "\n",
    "import tensorflow as tf"
   ]
  },
  {
   "cell_type": "code",
   "execution_count": null,
   "id": "f19cd8f9-2c72-4131-8791-28c40cabd283",
   "metadata": {
    "tags": []
   },
   "outputs": [],
   "source": [
    "hd = pd.read_csv('boston_housing.csv')\n",
    "x_train,y_train = hd.RM.values[:-100], hd.PRICE.values[:-100]\n",
    "x_test,y_test = hd.RM.values[-100:], hd.PRICE.values[-100:]\n",
    "\n",
    "model = tf.keras.Sequential()\n",
    "model.add(tf.keras.layers.Input(shape=(1,)))\n",
    "model.add(tf.keras.layers.Normalization())\n",
    "model.add(tf.keras.layers.Dense(1))\n",
    "model.compile(optimizer=tf.keras.optimizers.Adam(learning_rate=0.05),loss=tf.keras.losses.MeanSquaredError(),metrics=[tf.keras.metrics.RootMeanSquaredError()])\n",
    "x = tf.linspace(4,12,10)\n",
    "plot.scatter(x_train,y_train,alpha=0.5)"
   ]
  },
  {
   "cell_type": "code",
   "execution_count": null,
   "id": "d7f9bdb0-8989-4c7f-80bc-566fb787c995",
   "metadata": {
    "tags": []
   },
   "outputs": [],
   "source": [
    "for i in range(10):\n",
    "    history = model.fit(x_train,y_train,epochs=1,verbose=0)\n",
    "    y = model.predict(x)\n",
    "    plot.scatter(x_train,y_train,alpha=0.5)\n",
    "    plot.plot(x,y,color='red')\n",
    "    plot.show()"
   ]
  },
  {
   "cell_type": "code",
   "execution_count": null,
   "id": "23d34cde-fbb7-4239-8c08-8e042ed8aec5",
   "metadata": {},
   "outputs": [],
   "source": []
  }
 ],
 "metadata": {
  "kernelspec": {
   "display_name": "Python 3.9",
   "language": "python",
   "name": "python3"
  },
  "language_info": {
   "codemirror_mode": {
    "name": "ipython",
    "version": 3
   },
   "file_extension": ".py",
   "mimetype": "text/x-python",
   "name": "python",
   "nbconvert_exporter": "python",
   "pygments_lexer": "ipython3",
   "version": "3.9.16"
  }
 },
 "nbformat": 4,
 "nbformat_minor": 5
}
